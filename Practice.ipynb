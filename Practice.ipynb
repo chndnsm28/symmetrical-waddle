{
 "cells": [
  {
   "cell_type": "code",
   "execution_count": 1,
   "id": "38a31b63-f47d-4814-ba7e-1a500823b790",
   "metadata": {},
   "outputs": [
    {
     "name": "stdout",
     "output_type": "stream",
     "text": [
      "hello\n"
     ]
    }
   ],
   "source": [
    "print(\"hello\")"
   ]
  },
  {
   "cell_type": "markdown",
   "id": "f6ae59e5-cd48-4cd9-85c7-cc71931a8a73",
   "metadata": {},
   "source": [
    "# My practice\n"
   ]
  },
  {
   "cell_type": "markdown",
   "id": "2ce09bb0-0141-46b7-8f9c-11677e576a32",
   "metadata": {},
   "source": [
    "##python\n"
   ]
  },
  {
   "cell_type": "markdown",
   "id": "b8e097da-1f85-4bc8-aa4d-ad75a70d5fe5",
   "metadata": {},
   "source": [
    "1. pytho"
   ]
  }
 ],
 "metadata": {
  "kernelspec": {
   "display_name": "Python [conda env:base] *",
   "language": "python",
   "name": "conda-base-py"
  },
  "language_info": {
   "codemirror_mode": {
    "name": "ipython",
    "version": 3
   },
   "file_extension": ".py",
   "mimetype": "text/x-python",
   "name": "python",
   "nbconvert_exporter": "python",
   "pygments_lexer": "ipython3",
   "version": "3.12.7"
  }
 },
 "nbformat": 4,
 "nbformat_minor": 5
}
